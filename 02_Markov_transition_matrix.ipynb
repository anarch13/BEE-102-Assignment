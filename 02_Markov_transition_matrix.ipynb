{
  "nbformat": 4,
  "nbformat_minor": 0,
  "metadata": {
    "colab": {
      "provenance": []
    },
    "kernelspec": {
      "name": "python3",
      "display_name": "Python 3"
    },
    "language_info": {
      "name": "python"
    }
  },
  "cells": [
    {
      "cell_type": "markdown",
      "source": [
        "# **Building Markov transition matrix**\n",
        "For the input sequence, I used M. genitalium FASTA seqeunce.  \n",
        "First we load the file:"
      ],
      "metadata": {
        "id": "HE9yJJVuIvFH"
      }
    },
    {
      "cell_type": "code",
      "execution_count": 4,
      "metadata": {
        "id": "kgDm7_vJIWNc"
      },
      "outputs": [],
      "source": [
        "import pandas as pd\n",
        "\n",
        "with open(\"Mgenitalium.fasta\") as f:\n",
        "    sequence = ''.join(line.strip() for line in f if not line.startswith('>'))"
      ]
    },
    {
      "cell_type": "markdown",
      "source": [
        "Then we count the frequency of each dinucleotide in the sequence:"
      ],
      "metadata": {
        "id": "4x9LPoy5JZ72"
      }
    },
    {
      "cell_type": "code",
      "source": [
        "nucls = ['A', 'C', 'G', 'T']\n",
        "counts = pd.DataFrame(0, index=nucls, columns=nucls, dtype=int)\n",
        "\n",
        "for i in range(len(sequence)-1):\n",
        "    a = sequence[i]\n",
        "    b = sequence[i+1]\n",
        "    counts.at[a, b] += 1"
      ],
      "metadata": {
        "id": "MtiuLriFI4KY"
      },
      "execution_count": 5,
      "outputs": []
    },
    {
      "cell_type": "markdown",
      "source": [
        "Finally we get the transition matrix by dividing each cell by its row sum:"
      ],
      "metadata": {
        "id": "PCZzwXMsJxeP"
      }
    },
    {
      "cell_type": "code",
      "source": [
        "trans_matrix = counts.div(counts.sum(axis=1), axis=0)\n",
        "print(trans_matrix)"
      ],
      "metadata": {
        "colab": {
          "base_uri": "https://localhost:8080/"
        },
        "id": "ZhycY8i2JT30",
        "outputId": "b972dca9-1450-4617-cf8b-e65613e384a4"
      },
      "execution_count": 6,
      "outputs": [
        {
          "output_type": "stream",
          "name": "stdout",
          "text": [
            "          A         C         G         T\n",
            "A  0.421533  0.151613  0.168063  0.258791\n",
            "C  0.399086  0.181196  0.061685  0.358033\n",
            "G  0.312092  0.188254  0.178266  0.321388\n",
            "T  0.258943  0.138730  0.186510  0.415817\n"
          ]
        }
      ]
    },
    {
      "cell_type": "code",
      "source": [],
      "metadata": {
        "id": "aJSM23sCKGIR"
      },
      "execution_count": null,
      "outputs": []
    }
  ]
}
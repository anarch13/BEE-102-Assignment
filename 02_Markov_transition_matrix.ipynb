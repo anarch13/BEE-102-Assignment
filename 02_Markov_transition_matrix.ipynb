{
  "nbformat": 4,
  "nbformat_minor": 0,
  "metadata": {
    "colab": {
      "provenance": []
    },
    "kernelspec": {
      "name": "python3",
      "display_name": "Python 3"
    },
    "language_info": {
      "name": "python"
    }
  },
  "cells": [
    {
      "cell_type": "markdown",
      "source": [
        "# **Building Markov transition matrix**\n",
        "First we take the input:"
      ],
      "metadata": {
        "id": "HE9yJJVuIvFH"
      }
    },
    {
      "cell_type": "code",
      "execution_count": 1,
      "metadata": {
        "id": "kgDm7_vJIWNc",
        "colab": {
          "base_uri": "https://localhost:8080/"
        },
        "outputId": "ca4389d5-be30-4228-8433-584353051d1f"
      },
      "outputs": [
        {
          "name": "stdout",
          "output_type": "stream",
          "text": [
            "Enter a DNA sequence: ACGTTAACCTGTTCAATCTGCGAGG\n"
          ]
        }
      ],
      "source": [
        "import pandas as pd\n",
        "\n",
        "sequence = input(\"Enter a DNA sequence: \")\n",
        "\n",
        "nucls = ['A', 'C', 'G', 'T']\n",
        "for c in sequence:\n",
        "    if c not in nucls:\n",
        "        print(\"Error! Not a valid DNA sequence!\")\n",
        "        break"
      ]
    },
    {
      "cell_type": "markdown",
      "source": [
        "Then we count the frequency of each dinucleotide in the sequence:"
      ],
      "metadata": {
        "id": "4x9LPoy5JZ72"
      }
    },
    {
      "cell_type": "code",
      "source": [
        "counts = pd.DataFrame(0, index=nucls, columns=nucls, dtype=int)\n",
        "\n",
        "for i in range(len(sequence)-1):\n",
        "    a = sequence[i]\n",
        "    b = sequence[i+1]\n",
        "    counts.at[a, b] += 1"
      ],
      "metadata": {
        "id": "MtiuLriFI4KY"
      },
      "execution_count": 2,
      "outputs": []
    },
    {
      "cell_type": "markdown",
      "source": [
        "Finally we get the transition matrix by dividing each cell by its row sum:"
      ],
      "metadata": {
        "id": "PCZzwXMsJxeP"
      }
    },
    {
      "cell_type": "code",
      "source": [
        "trans_matrix = counts.div(counts.sum(axis=1), axis=0)\n",
        "print(trans_matrix)"
      ],
      "metadata": {
        "colab": {
          "base_uri": "https://localhost:8080/"
        },
        "id": "ZhycY8i2JT30",
        "outputId": "4db0fa9f-1f22-4827-d003-6777815738a1"
      },
      "execution_count": 3,
      "outputs": [
        {
          "output_type": "stream",
          "name": "stdout",
          "text": [
            "          A         C         G         T\n",
            "A  0.333333  0.333333  0.166667  0.166667\n",
            "C  0.166667  0.166667  0.333333  0.333333\n",
            "G  0.200000  0.200000  0.200000  0.400000\n",
            "T  0.142857  0.285714  0.285714  0.285714\n"
          ]
        }
      ]
    },
    {
      "cell_type": "code",
      "source": [],
      "metadata": {
        "id": "aJSM23sCKGIR"
      },
      "execution_count": null,
      "outputs": []
    }
  ]
}
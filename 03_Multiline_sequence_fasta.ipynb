{
  "nbformat": 4,
  "nbformat_minor": 0,
  "metadata": {
    "colab": {
      "provenance": []
    },
    "kernelspec": {
      "name": "python3",
      "display_name": "Python 3"
    },
    "language_info": {
      "name": "python"
    }
  },
  "cells": [
    {
      "cell_type": "markdown",
      "source": [
        "# **Multi-line sequence fasta to single-line fasta file**"
      ],
      "metadata": {
        "id": "8f8DVDGqucMk"
      }
    },
    {
      "cell_type": "markdown",
      "source": [
        "Basically we go through each line in multiline sequence fasta file and if it starts with '>', then we add newline to end the previous record (except the first line), and then write this line and add a newline. Else, we just write the line so that lines belonging to a single sequence chain into a big sequence."
      ],
      "metadata": {
        "id": "cQSBKJJPw1M3"
      }
    },
    {
      "cell_type": "code",
      "execution_count": 1,
      "metadata": {
        "id": "DQGe6P_5tvdO"
      },
      "outputs": [],
      "source": [
        "with open('multiline_input.fasta', 'r') as infile, open('output.fasta', 'w') as outfile:\n",
        "    for rawline in infile:\n",
        "        line = rawline.rstrip('\\n')\n",
        "        if line.startswith('>'):\n",
        "            if line != '>1':\n",
        "                outfile.write('\\n')\n",
        "            outfile.write(line + '\\n')\n",
        "        else:\n",
        "            outfile.write(line)\n",
        "    outfile.write('\\n')"
      ]
    },
    {
      "cell_type": "markdown",
      "source": [
        "Added output file as well."
      ],
      "metadata": {
        "id": "LnDsZxQXyiqR"
      }
    }
  ]
}
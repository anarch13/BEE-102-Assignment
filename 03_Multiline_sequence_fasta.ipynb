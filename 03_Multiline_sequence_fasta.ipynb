{
  "nbformat": 4,
  "nbformat_minor": 0,
  "metadata": {
    "colab": {
      "provenance": []
    },
    "kernelspec": {
      "name": "python3",
      "display_name": "Python 3"
    },
    "language_info": {
      "name": "python"
    }
  },
  "cells": [
    {
      "cell_type": "markdown",
      "source": [
        "# **Multi-line sequence fasta to single-line fasta file**"
      ],
      "metadata": {
        "id": "8f8DVDGqucMk"
      }
    },
    {
      "cell_type": "markdown",
      "source": [
        "Basically we go through each line in multiline sequence fasta file and if it starts with '>', then we add newline to end the previous record, and then print this line and add a newline. Else, we write the line so that lines belonging to a single sequence chain into a big sequence."
      ],
      "metadata": {
        "id": "cQSBKJJPw1M3"
      }
    },
    {
      "cell_type": "code",
      "execution_count": 3,
      "metadata": {
        "id": "DQGe6P_5tvdO"
      },
      "outputs": [],
      "source": [
        "with open('multiline_input.fasta', 'r') as infile, open('output.fasta', 'w') as outfile:\n",
        "    for rawline in infile:\n",
        "        line = rawline.rstrip('\\n')\n",
        "        if line.startswith('>'):\n",
        "            outfile.write('\\n')\n",
        "            outfile.write(line + '\\n')\n",
        "        else:\n",
        "            outfile.write(line)\n",
        "    outfile.write('\\n')"
      ]
    },
    {
      "cell_type": "markdown",
      "source": [
        "We print some sample sequences from the output file:"
      ],
      "metadata": {
        "id": "LnDsZxQXyiqR"
      }
    },
    {
      "cell_type": "code",
      "source": [
        "with open('output.fasta') as f:\n",
        "    for _ in range(23):\n",
        "        print(f.readline().rstrip())"
      ],
      "metadata": {
        "colab": {
          "base_uri": "https://localhost:8080/"
        },
        "id": "QRMRDSrnv2Zl",
        "outputId": "2603a114-6499-47a4-a253-5a3fc2f832d7"
      },
      "execution_count": 4,
      "outputs": [
        {
          "output_type": "stream",
          "name": "stdout",
          "text": [
            "\n",
            ">1\n",
            "TCCAATTGAGCTATACCGTCAGAAGTAGATGAGATCTAACGGCGCGCCCGGTTGTCGCAGCCACGCTAGGCACAGTCAAAGCAGTGACCCAGCCCTTCAGACGTTACTGTGAAAATCTGTCCACCGAGAACGCTTTCAAAATATATTAGCGGTTTAAGCTAGGCAAGTCACGGCATGTCCTTACAAAAGCCTACGAGCCGGGCCACATTATGTCGCCCATAAGATGCCAATACAATCTCAAGTAGGATAAGCATGTCTTACCACTAGCGTTCTGTGTTTGTGGGGTTACGCGTTGTGTTACCAACGGTCCCCTATAGCTCAGCAGTAATAAGTTTTATTGTGCTCAAGGCC\n",
            ">2\n",
            "GATAGCGACGACGCTAGTTCCTAGGGACCCGGGGGGGATCAGTGGTGACGGTATGCTCTTGCTGGTGCGACCCGTAACGAAGTCACATGGGTAGTGGCGGCACAGGATATCGTAGTGACAGGAACCTGATATTCCGTTGCAGAACACACGCGACAATCTACAAGTTATTTTCGGCTGAGTTACTTACTCACAAGATCCACATGGAAATTTAATATACGACGCTGAGGAGGGTTGCACAACGGCTCTCTTTCCTAAGAACAGAATTGCCTAAGAATTCAGAGCTCAAAGGCTCCATTTCTTGAGGTATGGTCGTCGGTATATTAACGGTGCTA\n",
            ">3\n",
            "GCCTATCTCACATGATAACCAGGTCTAGTTATGCTATTCATATACCTACTGTGTCCACTTTCTGTACTCCACGCGCGTACATAAGTACTGGAGTTAAATACAATGAAACGATGCAAGATGGGCTAAAGTTCAAGGAGGAGCTCTGCCATATCATTCTCTACAGCAAGACTGGGGCTCTGGGAATGGAGATAAAAAGGAGTTACATGCACGTAAAGTCGCCATCCATGCTACTTTGTTTGGCGCGGGGAACGCCCCGCCCTACTATTCATATGTCTACAC\n",
            ">4\n",
            "GTAACCCTATAGTCAGGAGGTCACCCGTGATGTTAAGGCG\n",
            ">5\n",
            "TTCCCGGATCAGTCACATCTAACATCTCATTGACTTCCTCCTATCGGTCGCCATCAGTACCTCGCGACTGAGCGGATCATTAGCGTCAGATTCACACAGAATCTCGCTGGCTCTGGTGTCAACGTATCAGGTCTGCCTTTCCATACAAGTTCACCATCCTAATAGGCTCTAGGCAATTCAAGCCTAATCTATCCCGAAATGTGACTCTCTCGCTTACTCAAGTGTGTCATAGGAATCCGTCTGAGAGTTTGAGCTGG\n",
            ">6\n",
            "GAAGTTGTAAAACTCAGACCATGTCATTAAGGTGCAATTGTAGTACAAAAGCTATTCCGGTACCCGGTAGCTGGACTGCCATGCTCGGCTGA\n",
            ">7\n",
            "GAGGCCTTGGCGTGGAGGACACGGACTACCTTTAGTCGAAATTCCTACCATGGTCTACGACCCTAGCGTCAATGAGTAGCTTATTTCCATGGAGCTGTGGAAGCCACGGAATGTGAAGATTCCCAAAAGAGCCGCTTCCTTCAAAACATATACCATGGGATTAAGATCGTCAAAAGTGTTTGTGGGTTGCCGTTGCCGGAGCTCCG\n",
            ">8\n",
            "CTCTTTCTGATACCTATAAATCTCAAACGGTAGGGTGATGTGACTAGCAATGCGGCTGCTGCGCCCCGTTCCCGAGTCATTAAACTTGGTGGGGCCTTTAACATGCCCACATGAGTCTGGCTCTGGGTATCATCCAGAAATTGCACGGCGGCTATTGCTACTGCCCCGCCTCATGGTATAAGTGGAATACCACCACTTTGCGTAGATGGGCCCGGCGATGCTGGACCTGCCCTATTTATTCCATTAATTGATCTGCACAGCCGCATACTCGAATACGGAATGTTGAGCCCTG\n",
            ">9\n",
            "ACGCCCAATAACTCGGTCGCACTGACCGAAAGTCGGTCACTTCTCGTAATCCATGCCAACTGGAAAGGATTGGACCTTTTCAGTTACGACGTACGGTATTAGATGTTACACAAAACGGACTCAGTGAGCCTGCGGAATGCTCTGCGGAGTTAGGAGAATGGCCCGCAGGACGAGTGGGACGTACGCTGCAAGATTCCCTACACCCGCCGCGACGCCGACCTAAGCTTTTCCGAACACGCAAAATGAACAAGCGGCTGGGACGGCGAACGATAGAAACCCCGTTTTGAG\n",
            ">10\n",
            "ACAGAGCTCGCTGTAGTTTCCCGGCTTTCCCCAGCACCCGGCGCC\n",
            ">11\n",
            "TCTAACATTAGGTCTCGACCTCATGGCGATATGGCATCGAAAACCTGGCCGAGTCCCTAGAGTTTGACTTCTATCGTTATTTGTTATACGAGGGGACTACTTGCCTATAGGCCGTCAACCTAATTAGCGAACACCGTCAAAACATATCCACCGCTAAAGGCCTACTGGGTAACCCATCTGGGATTTGGCTGGAGGAGTGTTTGGCGTAAGCCTAAGACCGCGGTGGATGTCGTTAGCTGCTGAGGCGCGCACAGTCTGAGTCGCGGAGCGTGCCTTTGTTAAGTGCGAGAGTTACTTATCGGCGTGGGCC\n"
          ]
        }
      ]
    },
    {
      "cell_type": "code",
      "source": [],
      "metadata": {
        "id": "TNeejtzCv6us"
      },
      "execution_count": 2,
      "outputs": []
    }
  ]
}
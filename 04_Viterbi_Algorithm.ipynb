{
  "nbformat": 4,
  "nbformat_minor": 0,
  "metadata": {
    "colab": {
      "provenance": []
    },
    "kernelspec": {
      "name": "python3",
      "display_name": "Python 3"
    },
    "language_info": {
      "name": "python"
    }
  },
  "cells": [
    {
      "cell_type": "markdown",
      "source": [
        "# **Writing Viterbi Algorithm for the Primer**\n",
        "\n",
        "First we define all the parameters, such as states, emmision matrix, and transmission matrix as given in the primer:\n"
      ],
      "metadata": {
        "id": "WWYcjqaT2fHy"
      }
    },
    {
      "cell_type": "code",
      "execution_count": 1,
      "metadata": {
        "id": "gS8ZiVWG1zaW"
      },
      "outputs": [],
      "source": [
        "import math\n",
        "\n",
        "states = ['E', '5', 'I']\n",
        "emissions = {\n",
        "    'E': {'A':0.25, 'C':0.25, 'G':0.25, 'T':0.25},\n",
        "    '5': {'A':0.05, 'C':0.0,  'G':0.95, 'T':0.0 },\n",
        "    'I': {'A':0.40, 'C':0.10, 'G':0.10, 'T':0.40}\n",
        "}\n",
        "start_prob = {'E':1.0, '5':0.0, 'I':0.0}\n",
        "trans_prob = {\n",
        "    'E': {'E':0.9, '5':0.1, 'I':0.0},\n",
        "    '5': {'E':0.0, '5':0.0, 'I':1.0},\n",
        "    'I': {'E':0.0, '5':0.0, 'I':0.9}\n",
        "}\n",
        "end_prob = {'E':0.0, '5':0.0, 'I':0.1}"
      ]
    },
    {
      "cell_type": "markdown",
      "source": [
        "Now we take log of all probabilities:"
      ],
      "metadata": {
        "id": "W_GyN1Ry4EjJ"
      }
    },
    {
      "cell_type": "code",
      "source": [
        "def to_log(d):\n",
        "    return {i: (math.log(p) if p>0 else float('-inf')) for i, p in d.items()}\n",
        "\n",
        "log_start = to_log(start_prob)\n",
        "log_end   = to_log(end_prob)\n",
        "log_emit  = {s: to_log(emissions[s]) for s in states}\n",
        "log_trans = {s: to_log(trans_prob[s]) for s in states}"
      ],
      "metadata": {
        "id": "vbneTo8h185u"
      },
      "execution_count": 2,
      "outputs": []
    },
    {
      "cell_type": "markdown",
      "source": [
        "Now we write a function to get log probability of given path and sequence:"
      ],
      "metadata": {
        "id": "PNoeUQXL4row"
      }
    },
    {
      "cell_type": "code",
      "source": [
        "def get_log_prob_of_path(path, seq):\n",
        "    logp = log_start[path[0]]\n",
        "    for i, (st, base) in enumerate(zip(path, seq)):\n",
        "        logp += log_emit[st][base]\n",
        "        if i < len(path)-1:\n",
        "            logp += log_trans[st][path[i+1]]\n",
        "    logp += log_end[path[-1]]\n",
        "    return logp"
      ],
      "metadata": {
        "id": "sW_0LxWR19ni"
      },
      "execution_count": 3,
      "outputs": []
    },
    {
      "cell_type": "markdown",
      "source": [
        "Examples:"
      ],
      "metadata": {
        "id": "9-xpI3HN8fGR"
      }
    },
    {
      "cell_type": "code",
      "source": [
        "seq = 'CTTCATGTGAAAGCAGACGTAAGTCA'\n",
        "path = 'EEEEEEEEEEEEEEEEEE5IIIIIII'\n",
        "print(\"Log-prob is: \", get_log_prob_of_path(path, seq))"
      ],
      "metadata": {
        "colab": {
          "base_uri": "https://localhost:8080/"
        },
        "id": "XnV19F_e8es7",
        "outputId": "9c1cb71f-5396-4261-9684-57688d102868"
      },
      "execution_count": 12,
      "outputs": [
        {
          "output_type": "stream",
          "name": "stdout",
          "text": [
            "Log-prob is:  -41.21967768602254\n"
          ]
        }
      ]
    },
    {
      "cell_type": "code",
      "source": [
        "seq = 'CTTCATGTGAA'\n",
        "path = 'EEIEEE5E5EE'\n",
        "print(\"Log-prob is: \", get_log_prob_of_path(path, seq))"
      ],
      "metadata": {
        "colab": {
          "base_uri": "https://localhost:8080/"
        },
        "id": "_iZcrpSR-aHr",
        "outputId": "58f516d7-81e1-417b-f5bc-084e59bdd0a1"
      },
      "execution_count": 13,
      "outputs": [
        {
          "output_type": "stream",
          "name": "stdout",
          "text": [
            "Log-prob is:  -inf\n"
          ]
        }
      ]
    },
    {
      "cell_type": "markdown",
      "source": [
        "Next we write a function that computes the best path and best log probability given a sequence using Viterbi algorithm:"
      ],
      "metadata": {
        "id": "2B79pvqM47l4"
      }
    },
    {
      "cell_type": "code",
      "source": [
        "def viterbi(seq):\n",
        "    n = len(seq)\n",
        "    V = [{ } for _ in range(n)]\n",
        "    backpointer = [{ } for _ in range(n)]\n",
        "\n",
        "    # Initialization\n",
        "    for s in states:\n",
        "        V[0][s] = log_start[s] + log_emit[s][seq[0]]\n",
        "        backpointer[0][s] = None\n",
        "\n",
        "    # Recursion\n",
        "    for t in range(1, n):\n",
        "        for s in states:\n",
        "            best_prev, best_score = None, float('-inf')\n",
        "            for ps in states:\n",
        "                score = V[t-1][ps] + log_trans[ps][s] + log_emit[s][seq[t]]\n",
        "                if score > best_score:\n",
        "                    best_score, best_prev = score, ps\n",
        "            V[t][s] = best_score\n",
        "            backpointer[t][s] = best_prev\n",
        "\n",
        "    # Termination\n",
        "    best_last, best_score = None, float('-inf')\n",
        "    for s in states:\n",
        "        score = V[n-1][s] + log_end[s]\n",
        "        if score > best_score:\n",
        "            best_score, best_last = score, s\n",
        "\n",
        "    if(best_score == float('-inf')):\n",
        "        return '', float('-inf')\n",
        "\n",
        "    # Backtrack to get path\n",
        "    path = [best_last]\n",
        "    for t in range(n-1, 0, -1):\n",
        "        path.insert(0, backpointer[t][path[0]])\n",
        "    return ''.join(path), best_score"
      ],
      "metadata": {
        "id": "anau_fKk2DpO"
      },
      "execution_count": 8,
      "outputs": []
    },
    {
      "cell_type": "markdown",
      "source": [
        "Examples:"
      ],
      "metadata": {
        "id": "-9Ub2yDE8hzM"
      }
    },
    {
      "cell_type": "code",
      "source": [
        "seq = 'CTTCATGTGAAAGCAGACGTAAGTCA'\n",
        "best_path, best_score = viterbi(seq)\n",
        "print(\"Viterbi best path: \", best_path)\n",
        "print(\"Viterbi log-probability: \", best_score)"
      ],
      "metadata": {
        "colab": {
          "base_uri": "https://localhost:8080/"
        },
        "id": "YVvb5yg_2HHJ",
        "outputId": "fbd3fe68-a4b4-462b-a65a-d96519e480fc"
      },
      "execution_count": 9,
      "outputs": [
        {
          "output_type": "stream",
          "name": "stdout",
          "text": [
            "Viterbi best path:  EEEEEEEEEEEEEEEEEE5IIIIIII\n",
            "Viterbi log-probability:  -41.21967768602254\n"
          ]
        }
      ]
    },
    {
      "cell_type": "code",
      "source": [
        "seq = 'CTTGATATTAATGC'\n",
        "best_path, best_score = viterbi(seq)\n",
        "print(\"Viterbi best path: \", best_path)\n",
        "print(\"Viterbi log-probability: \", best_score)"
      ],
      "metadata": {
        "colab": {
          "base_uri": "https://localhost:8080/"
        },
        "id": "7joEPDlJ2JT7",
        "outputId": "3374e51e-bb67-40bf-fa96-aed33642cd31"
      },
      "execution_count": 10,
      "outputs": [
        {
          "output_type": "stream",
          "name": "stdout",
          "text": [
            "Viterbi best path:  EEE5IIIIIIIIII\n",
            "Viterbi log-probability:  -21.90980827695273\n"
          ]
        }
      ]
    },
    {
      "cell_type": "code",
      "source": [
        "seq = 'CCC'\n",
        "best_path, best_score = viterbi(seq)\n",
        "print(\"Viterbi best path: \", best_path)\n",
        "print(\"Viterbi log-probability: \", best_score)"
      ],
      "metadata": {
        "colab": {
          "base_uri": "https://localhost:8080/"
        },
        "id": "sGZFVQZR-lv8",
        "outputId": "d7e756ae-ec8f-4107-a544-90b984ebaa59"
      },
      "execution_count": 11,
      "outputs": [
        {
          "output_type": "stream",
          "name": "stdout",
          "text": [
            "Viterbi best path:  \n",
            "Viterbi log-probability:  -inf\n"
          ]
        }
      ]
    },
    {
      "cell_type": "code",
      "source": [],
      "metadata": {
        "id": "gH99Hq8j3Hsu"
      },
      "execution_count": null,
      "outputs": []
    }
  ]
}